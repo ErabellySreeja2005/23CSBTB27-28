{
  "nbformat": 4,
  "nbformat_minor": 0,
  "metadata": {
    "colab": {
      "provenance": [],
      "authorship_tag": "ABX9TyN7iJskK5C4G3wa2JcZ8s+H",
      "include_colab_link": true
    },
    "kernelspec": {
      "name": "python3",
      "display_name": "Python 3"
    },
    "language_info": {
      "name": "python"
    }
  },
  "cells": [
    {
      "cell_type": "markdown",
      "metadata": {
        "id": "view-in-github",
        "colab_type": "text"
      },
      "source": [
        "<a href=\"https://colab.research.google.com/github/ErabellySreeja2005/23CSBTB27-28/blob/main/Untitled0.ipynb\" target=\"_parent\"><img src=\"https://colab.research.google.com/assets/colab-badge.svg\" alt=\"Open In Colab\"/></a>"
      ]
    },
    {
      "cell_type": "code",
      "execution_count": null,
      "metadata": {
        "id": "xH8p_M82kPbO"
      },
      "outputs": [],
      "source": []
    },
    {
      "cell_type": "markdown",
      "source": [
        "data structure using numphy,pandas\n"
      ],
      "metadata": {
        "id": "4L9fiawZkXFB"
      }
    },
    {
      "cell_type": "code",
      "source": [
        "import numpy as np\n",
        "list={1,5,2,6,7}\n",
        "list1=[3,6,1,8]\n",
        "print(list)\n",
        "print(list1)\n",
        "print(type(list))\n",
        "print(type(list1))"
      ],
      "metadata": {
        "colab": {
          "base_uri": "https://localhost:8080/"
        },
        "id": "dxa2CSGAk7B-",
        "outputId": "347e9826-557b-4159-9fad-fd5494e4fb57"
      },
      "execution_count": 4,
      "outputs": [
        {
          "output_type": "stream",
          "name": "stdout",
          "text": [
            "{1, 2, 5, 6, 7}\n",
            "[3, 6, 1, 8]\n",
            "<class 'set'>\n",
            "<class 'list'>\n"
          ]
        }
      ]
    },
    {
      "cell_type": "code",
      "source": [
        "List= [\"Greeks\",\"for\",\"Greeks\"]\n",
        "list2=\"my first lab\"\n",
        "list3=4.3\n",
        "list4=2j+6\n",
        "list5='my first. lab'\n",
        "print(type(list2))\n",
        "print(type(list3))\n",
        "print(type(list4))\n",
        "print(type(list5))\n",
        "print(type(list))\n",
        "print(\"\\nlist iteam:\")\n",
        "print(list)\n",
        "print(type(list))\n"
      ],
      "metadata": {
        "colab": {
          "base_uri": "https://localhost:8080/"
        },
        "id": "ufStPe0onxgd",
        "outputId": "305c4259-855c-4f71-a9dd-8bc09cbb61ab"
      },
      "execution_count": 9,
      "outputs": [
        {
          "output_type": "stream",
          "name": "stdout",
          "text": [
            "<class 'str'>\n",
            "<class 'float'>\n",
            "<class 'complex'>\n",
            "<class 'str'>\n",
            "<class 'set'>\n",
            "\n",
            "list iteam:\n",
            "{1, 2, 5, 6, 7}\n",
            "<class 'set'>\n"
          ]
        }
      ]
    }
  ]
}